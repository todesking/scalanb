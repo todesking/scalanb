{
  "metadata" : {
    "language_info" : {
      "name" : "scala"
    }
  },
  "nbformat" : 4,
  "nbformat_minor" : 0,
  "cells" : [ {
    "cell_type" : "code",
    "execution_count" : 1,
    "source" : "nb.setShowTimeMillis(100)\n",
    "metadata" : {
      "collapsed" : false,
      "scroll" : false
    },
    "outputs" : [ ]
  }, {
    "cell_type" : "markdown",
    "metadata" : { },
    "source" : "# Scalanb Example"
  }, {
    "cell_type" : "code",
    "execution_count" : 2,
    "source" : "val a = 1\n\nval b = 2\n",
    "metadata" : {
      "collapsed" : false,
      "scroll" : false
    },
    "outputs" : [ ]
  }, {
    "cell_type" : "code",
    "execution_count" : 3,
    "source" : "a\n",
    "metadata" : {
      "collapsed" : false,
      "scroll" : false
    },
    "outputs" : [ {
      "output_type" : "execute_result",
      "data" : {
        "text/plain" : "1"
      },
      "metadata" : { },
      "execution_count" : 2
    } ]
  }, {
    "cell_type" : "code",
    "execution_count" : 4,
    "source" : "println(s\"a = $a\")\n\nprintln(\"hello\")\n",
    "metadata" : {
      "collapsed" : false,
      "scroll" : false
    },
    "outputs" : [ {
      "output_type" : "stream",
      "name" : "stdout",
      "text" : "a = 1\n"
    }, {
      "output_type" : "stream",
      "name" : "stdout",
      "text" : "hello\n"
    } ]
  }, {
    "cell_type" : "markdown",
    "metadata" : { },
    "source" : "This is $a + b$:"
  }, {
    "cell_type" : "code",
    "execution_count" : 5,
    "source" : "a + b\n",
    "metadata" : {
      "collapsed" : false,
      "scroll" : false
    },
    "outputs" : [ {
      "output_type" : "execute_result",
      "data" : {
        "text/plain" : "3"
      },
      "metadata" : { },
      "execution_count" : 5
    } ]
  }, {
    "cell_type" : "code",
    "execution_count" : 6,
    "source" : "System.out.println(\"Hello from System.out.println\")\n\nprintln(\"Hello from Console.println\")\n\nSystem.err.println(\"Boo!\")\n\nConsole.err.println(\"Boo!2\")\n\ndef f(xxx: Int) = {\n    xxx * xxx * xxx\n  }\n",
    "metadata" : {
      "collapsed" : false,
      "scroll" : false
    },
    "outputs" : [ {
      "output_type" : "stream",
      "name" : "stdout",
      "text" : "Hello from System.out.println\n"
    }, {
      "output_type" : "stream",
      "name" : "stdout",
      "text" : "Hello from Console.println\n"
    }, {
      "output_type" : "stream",
      "name" : "stderr",
      "text" : "Boo!\n"
    }, {
      "output_type" : "stream",
      "name" : "stderr",
      "text" : "Boo!2\n"
    } ]
  }, {
    "cell_type" : "code",
    "execution_count" : 7,
    "source" : "f(10);",
    "metadata" : {
      "collapsed" : false,
      "scroll" : false
    },
    "outputs" : [ {
      "output_type" : "execute_result",
      "data" : {
        "text/plain" : "1000"
      },
      "metadata" : { },
      "execution_count" : 6
    } ]
  }, {
    "cell_type" : "code",
    "execution_count" : 8,
    "source" : "f(99)\n",
    "metadata" : {
      "collapsed" : false,
      "scroll" : false
    },
    "outputs" : [ {
      "output_type" : "execute_result",
      "data" : {
        "text/plain" : "970,299 (970299)"
      },
      "metadata" : { },
      "execution_count" : 8
    } ]
  }, {
    "cell_type" : "code",
    "execution_count" : 9,
    "source" : "val x = 2\n\nval y = 100\n",
    "metadata" : {
      "collapsed" : false,
      "scroll" : false
    },
    "outputs" : [ ]
  }, {
    "cell_type" : "code",
    "execution_count" : 10,
    "source" : "Thread.sleep(x * y)\n",
    "metadata" : {
      "collapsed" : false,
      "scroll" : false
    },
    "outputs" : [ {
      "output_type" : "display_data",
      "data" : {
        "text/plain" : "Execution time: 0.20[Sec]"
      },
      "metadata" : { }
    } ]
  }, {
    "cell_type" : "code",
    "execution_count" : 11,
    "source" : "locally {\n    Thread.sleep(300)\n    100\n  }\n",
    "metadata" : {
      "collapsed" : false,
      "scroll" : false
    },
    "outputs" : [ {
      "output_type" : "display_data",
      "data" : {
        "text/plain" : "Execution time: 0.30[Sec]"
      },
      "metadata" : { }
    }, {
      "output_type" : "execute_result",
      "data" : {
        "text/plain" : "100"
      },
      "metadata" : { },
      "execution_count" : 11
    } ]
  }, {
    "cell_type" : "code",
    "execution_count" : 12,
    "source" : "val colNames =\n    Seq(\"id\", \"name\", \"size\")\n\nval rows =\n    Seq(\n      \"1,Int,4\",\n      \"2,Object,8\",\n      \"3,Long,8\",\n      \"4,Short,2\").map(_.split(\",\").toSeq)\n",
    "metadata" : {
      "collapsed" : false,
      "scroll" : false
    },
    "outputs" : [ ]
  }, {
    "cell_type" : "code",
    "execution_count" : 13,
    "source" : "nb.table(colNames, rows)\n",
    "metadata" : {
      "collapsed" : false,
      "scroll" : false
    },
    "outputs" : [ {
      "output_type" : "execute_result",
      "data" : {
        "text/plain" : "id,   name, size\n 1,    Int,    4\n 2, Object,    8\n 3,   Long,    8\n 4,  Short,    2",
        "text/html" : "<table style=\"word-wrap: break-word\">\n      <thead><th>id</th><th>name</th><th>size</th></thead>\n      <tbody><tr>\n<td>1</td>\n<td>Int</td>\n<td>4</td>\n</tr>\n<tr>\n<td>2</td>\n<td>Object</td>\n<td>8</td>\n</tr>\n<tr>\n<td>3</td>\n<td>Long</td>\n<td>8</td>\n</tr>\n<tr>\n<td>4</td>\n<td>Short</td>\n<td>2</td>\n</tr></tbody>\n      </table>"
      },
      "metadata" : { },
      "execution_count" : 12
    } ]
  }, {
    "cell_type" : "code",
    "execution_count" : 14,
    "source" : "nb.vtable(colNames, rows)\n",
    "metadata" : {
      "collapsed" : false,
      "scroll" : false
    },
    "outputs" : [ {
      "output_type" : "execute_result",
      "data" : {
        "text/plain" : "Item 1:\nname, value\n  id,     1\nname,   Int\nsize,     4\nItem 2:\nname,  value\n  id,      2\nname, Object\nsize,      8\nItem 3:\nname, value\n  id,     3\nname,  Long\nsize,     8\nItem 4:\nname, value\n  id,     4\nname, Short\nsize,     2",
        "text/html" : "<ol>\n<li><table style=\"word-wrap: break-word\">\n      <thead><th>name</th><th>value</th></thead>\n      <tbody><tr>\n<td>id</td>\n<td>1</td>\n</tr>\n<tr>\n<td>name</td>\n<td>Int</td>\n</tr>\n<tr>\n<td>size</td>\n<td>4</td>\n</tr></tbody>\n      </table></li>\n<li><table style=\"word-wrap: break-word\">\n      <thead><th>name</th><th>value</th></thead>\n      <tbody><tr>\n<td>id</td>\n<td>2</td>\n</tr>\n<tr>\n<td>name</td>\n<td>Object</td>\n</tr>\n<tr>\n<td>size</td>\n<td>8</td>\n</tr></tbody>\n      </table></li>\n<li><table style=\"word-wrap: break-word\">\n      <thead><th>name</th><th>value</th></thead>\n      <tbody><tr>\n<td>id</td>\n<td>3</td>\n</tr>\n<tr>\n<td>name</td>\n<td>Long</td>\n</tr>\n<tr>\n<td>size</td>\n<td>8</td>\n</tr></tbody>\n      </table></li>\n<li><table style=\"word-wrap: break-word\">\n      <thead><th>name</th><th>value</th></thead>\n      <tbody><tr>\n<td>id</td>\n<td>4</td>\n</tr>\n<tr>\n<td>name</td>\n<td>Short</td>\n</tr>\n<tr>\n<td>size</td>\n<td>2</td>\n</tr></tbody>\n      </table></li>\n</ol>"
      },
      "metadata" : { },
      "execution_count" : 14
    } ]
  }, {
    "cell_type" : "code",
    "execution_count" : 15,
    "source" : "???\n",
    "metadata" : {
      "collapsed" : false,
      "scroll" : false
    },
    "outputs" : [ {
      "output_type" : "error",
      "ename" : "Exception",
      "evalue" : "(Does Jupyter really use this field??)",
      "traceback" : [ "scala.NotImplementedError: an implementation is missing", "  scala.Predef$.$qmark$qmark$qmark(Predef.scala:230)", "  Example1.scalanb__run(Example1.scala:52)", "  sun.reflect.NativeMethodAccessorImpl.invoke0(Native Method)", "  sun.reflect.NativeMethodAccessorImpl.invoke(NativeMethodAccessorImpl.java:62)", "  sun.reflect.DelegatingMethodAccessorImpl.invoke(DelegatingMethodAccessorImpl.java:43)", "  java.lang.reflect.Method.invoke(Method.java:498)", "  com.todesking.scalanb.Runner$$anonfun$runBatch$1.apply(Runner.scala:97)", "  com.todesking.scalanb.Runner$$anonfun$runBatch$1.apply(Runner.scala:95)", "  com.todesking.scalanb.Runner$$anonfun$run$1.apply(Runner.scala:17)", "  scala.util.DynamicVariable.withValue(DynamicVariable.scala:58)", "  scala.Console$.withErr(Console.scala:80)", "  com.todesking.scalanb.io.IO$$anonfun$1.apply(IO.scala:18)", "  scala.util.DynamicVariable.withValue(DynamicVariable.scala:58)", "  scala.Console$.withOut(Console.scala:53)", "  com.todesking.scalanb.io.IO$.withOuts(IO.scala:17)", "  com.todesking.scalanb.Runner$.run(Runner.scala:15)", "  com.todesking.scalanb.Runner$.runBatch(Runner.scala:95)", "  Example1$.main(Example1.scala:3)", "  Example1.main(Example1.scala)", "  sun.reflect.NativeMethodAccessorImpl.invoke0(Native Method)", "  sun.reflect.NativeMethodAccessorImpl.invoke(NativeMethodAccessorImpl.java:62)", "  sun.reflect.DelegatingMethodAccessorImpl.invoke(DelegatingMethodAccessorImpl.java:43)", "  java.lang.reflect.Method.invoke(Method.java:498)", "  sbt.Run.invokeMain(Run.scala:98)", "  sbt.Run.run0(Run.scala:92)", "  sbt.Run.execute$1(Run.scala:68)", "  sbt.Run.$anonfun$run$4(Run.scala:80)", "  scala.runtime.java8.JFunction0$mcV$sp.apply(JFunction0$mcV$sp.java:12)", "  sbt.util.InterfaceUtil$$anon$1.get(InterfaceUtil.scala:10)", "  sbt.TrapExit$App.run(TrapExit.scala:253)", "  java.lang.Thread.run(Thread.java:748)" ]
    } ]
  } ]
}
